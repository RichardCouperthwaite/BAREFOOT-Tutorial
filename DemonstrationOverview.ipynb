{
 "cells": [
  {
   "cell_type": "markdown",
   "id": "1b741c5c",
   "metadata": {},
   "source": [
    "# Introduction to the BAREFOOT Framework\n",
    "## A Bayesian Optimization Framework for Optimization of Multi-Fidelity Models\n",
    "\n",
    "This demonstration is in three parts. The first two cover the individual techniques that have been combined in the BAREFOOT Framework and provide some of the theoretical background behind these techniques. \n",
    "\n",
    "Follow the links below to access each of the notebooks:\n",
    "\n",
    "1) [Reification/Fusion Method for Combining Multifidelity Model Sources](ReificationFusion%20Demonstration.ipynb)\n",
    "\n",
    "2) [Batch Bayesian Optimization](Batch%20Bayesian%20Optimization%20Demonstration.ipynb)\n",
    "\n",
    "3) [BAREFOOT Framework](BAREFOOT%20Framework%20Demonstration.ipynb)"
   ]
  },
  {
   "cell_type": "markdown",
   "id": "6f9a555c",
   "metadata": {},
   "source": [
    "## References\n",
    "\n",
    "\\[1\\] Thomison, William D., and Douglas L. Allaire. “A Model Reification Approach to Fusing Information from Multifidelity Information Sources.” In 19th AIAA Non-Deterministic Approaches Conference. AIAA SciTech Forum. American Institute of Aeronautics and Astronautics, 2017. https://doi.org/10.2514/6.2017-1949.\n",
    "\n",
    "\\[2\\] Joy, Tinu Theckel, Santu Rana, Sunil Gupta, and Svetha Venkatesh. “Batch Bayesian Optimization Using Multi-Scale Search.” Knowledge-Based Systems, June 27, 2019. https://doi.org/10.1016/j.knosys.2019.06.026.\n",
    "\n",
    "\\[3\\]Ghoreishi, Seyede Fatemeh, Abhilash Molkeri, Ankit Srivastava, Raymundo Arroyave, and Douglas Allaire. “Multi-Information Source Fusion and Optimization to Realize ICME: Application to Dual-Phase Materials.” Journal of Mechanical Design 140, no. 11 (September 7, 2018): 111409-111409–14. https://doi.org/10.1115/1.4041034.\n",
    "\n",
    "\\[4\\] Ghoreishi, Seyede Fatemeh, Abhilash Molkeri, Raymundo Arróyave, Douglas Allaire, and Ankit Srivastava. “Efficient Use of Multiple Information Sources in Material Design.” Acta Materialia 180 (2019): 260–71.\n",
    "\n",
    "\\[5\\] Khatamsaz, Danial, Abhilash Molkeri, Richard Couperthwaite, Jaylen James, Raymundo Arróyave, Douglas Allaire, and Ankit Srivastava. “Efficiently Exploiting Process-Structure-Property Relationships in Material Design by Multi-Information Source Fusion.” Acta Materialia 206 (March 1, 2021): 116619. https://doi.org/10.1016/j.actamat.2020.116619.\n",
    "\n",
    "\\[6\\] Couperthwaite, Richard, Abhilash Molkeri, Danial Khatamsaz, Ankit Srivastava, Douglas Allaire, and Raymundo Arroyave. “Materials Design Through Batch Bayesian Optimization with Multisource Information Fusion.” JOM, October 13, 2020. https://doi.org/10.1007/s11837-020-04396-x.\n",
    "\n",
    "\\[7\\] Richard Couperthwaite, Raymundo Arroyave, Abhilash Molkeri, Danial Khatamsaz, Ankit Srivastava, Douglas Allaire (2021) BAREFOOT Framework [Source Code]. https://doi.org/10.24433/CO.7729810.v1\n",
    "\n",
    "\\[8\\] https://github.com/RichardCouperthwaite/BAREFOOT-Framework"
   ]
  },
  {
   "cell_type": "code",
   "execution_count": null,
   "id": "f87f43cb",
   "metadata": {},
   "outputs": [],
   "source": []
  }
 ],
 "metadata": {
  "kernelspec": {
   "display_name": "Python 3",
   "language": "python",
   "name": "python3"
  },
  "language_info": {
   "codemirror_mode": {
    "name": "ipython",
    "version": 3
   },
   "file_extension": ".py",
   "mimetype": "text/x-python",
   "name": "python",
   "nbconvert_exporter": "python",
   "pygments_lexer": "ipython3",
   "version": "3.8.5"
  }
 },
 "nbformat": 4,
 "nbformat_minor": 5
}
